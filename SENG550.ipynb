{
 "cells": [
  {
   "cell_type": "markdown",
   "metadata": {
    "collapsed": false,
    "id": "OXDe7mKjYC_3"
   },
   "source": [
    "# Set up Spark\n",
    "\n"
   ]
  },
  {
   "cell_type": "code",
   "execution_count": 6,
   "metadata": {
    "collapsed": false,
    "id": "Cd45Uy3acnUv"
   },
   "outputs": [
    {
     "data": {
      "text/plain": [
       "'/home/drbenciv/.local/lib/python3.8/site-packages/pyspark'"
      ]
     },
     "execution_count": 6,
     "metadata": {},
     "output_type": "execute_result"
    }
   ],
   "source": [
    "import findspark\n",
    "findspark.init()\n",
    "findspark.find()"
   ]
  },
  {
   "cell_type": "code",
   "execution_count": 7,
   "metadata": {
    "collapsed": false,
    "id": "LBNyd7rnctOr"
   },
   "outputs": [
    {
     "name": "stderr",
     "output_type": "stream",
     "text": [
      "your 131072x1 screen size is bogus. expect trouble\n"
     ]
    },
    {
     "name": "stdout",
     "output_type": "stream",
     "text": [
      "22/12/15 22:00:41 WARN Utils: Your hostname, Dante-Gram resolves to a loopback address: 127.0.1.1; using 172.28.114.193 instead (on interface eth0)\n",
      "22/12/15 22:00:41 WARN Utils: Set SPARK_LOCAL_IP if you need to bind to another address\n"
     ]
    },
    {
     "name": "stderr",
     "output_type": "stream",
     "text": [
      "Setting default log level to \"WARN\".\n",
      "To adjust logging level use sc.setLogLevel(newLevel). For SparkR, use setLogLevel(newLevel).\n"
     ]
    },
    {
     "name": "stdout",
     "output_type": "stream",
     "text": [
      "22/12/15 22:00:43 WARN NativeCodeLoader: Unable to load native-hadoop library for your platform... using builtin-java classes where applicable\n",
      "22/12/15 22:00:43 WARN Utils: Service 'SparkUI' could not bind on port 4050. Attempting port 4051.\n"
     ]
    }
   ],
   "source": [
    "from pyspark.sql import SparkSession\n",
    "\n",
    "spark = SparkSession.builder\\\n",
    "        .master(\"local[4]\")\\\n",
    "        .appName(\"CoCalc\")\\\n",
    "        .config('spark.ui.port', '4050')\\\n",
    "        .getOrCreate()"
   ]
  },
  {
   "cell_type": "code",
   "execution_count": 8,
   "metadata": {
    "collapsed": false,
    "id": "Tef1rQIuczuj"
   },
   "outputs": [],
   "source": [
    "sc = spark.sparkContext"
   ]
  },
  {
   "cell_type": "code",
   "execution_count": 9,
   "metadata": {
    "colab": {
     "base_uri": "https://localhost:8080/"
    },
    "collapsed": false,
    "id": "l8XI60wVc0Jn",
    "outputId": "4510e561-0d6b-48a2-dc41-d7a8aa0d3790"
   },
   "outputs": [
    {
     "name": "stderr",
     "output_type": "stream",
     "text": [
      "                                                                                \r"
     ]
    },
    {
     "data": {
      "text/plain": [
       "[2, 4, 6, 8, 10]"
      ]
     },
     "execution_count": 9,
     "metadata": {},
     "output_type": "execute_result"
    }
   ],
   "source": [
    "test = sc.parallelize([1, 2, 3, 4, 5])\n",
    "\n",
    "def times_two(x):\n",
    "  return x * 2\n",
    "\n",
    "rdd = test.map(times_two)\n",
    "rdd.collect()"
   ]
  },
  {
   "cell_type": "markdown",
   "metadata": {
    "collapsed": false,
    "id": "5tPZ8XDKYKIM"
   },
   "source": [
    "# Test Data Integrity\n",
    "\n"
   ]
  },
  {
   "cell_type": "code",
   "execution_count": 10,
   "metadata": {
    "colab": {
     "base_uri": "https://localhost:8080/"
    },
    "collapsed": false,
    "id": "WvY7FeTvqkYF",
    "outputId": "24e4bb21-ce73-4311-f896-0e5889a8da07"
   },
   "outputs": [
    {
     "name": "stdout",
     "output_type": "stream",
     "text": [
      "Invalid: 23.63%\n"
     ]
    }
   ],
   "source": [
    "from datetime import datetime\n",
    "\n",
    "with open('EPM_Dataset_2/Data/Processes/Session 6/99.txt') as file:\n",
    "  invalid = 0\n",
    "  total = 0\n",
    "  for line in file:\n",
    "    total += 1\n",
    "\n",
    "    line = line.split(', ')\n",
    "    start_time = line[4]\n",
    "    end_time = line[5]\n",
    "    idle_time = int(line[6])\n",
    "\n",
    "    # parse start and end time into datetime objects\n",
    "    start_datetime = datetime.strptime(start_time, '%d.%m.%Y %H:%M:%S')\n",
    "    # print(start_datetime)\n",
    "\n",
    "    end_datetime = datetime.strptime(end_time, '%d.%m.%Y %H:%M:%S')\n",
    "    # print(end_datetime)\n",
    "\n",
    "    diff = end_datetime - start_datetime\n",
    "\n",
    "    if (diff.total_seconds() * 1000 < idle_time): # idle_time is in millis\n",
    "      invalid += 1\n",
    "\n",
    "  invalid_percent = invalid / total * 100\n",
    "  print(f'Invalid: {round(invalid_percent, 2)}%')\n"
   ]
  },
  {
   "cell_type": "markdown",
   "metadata": {
    "collapsed": false,
    "id": "_j6jza8WX9Mw"
   },
   "source": [
    "# Transform Data"
   ]
  },
  {
   "cell_type": "code",
   "execution_count": 11,
   "metadata": {
    "colab": {
     "base_uri": "https://localhost:8080/"
    },
    "collapsed": false,
    "id": "8xzWwTVfcYRU",
    "outputId": "4240e1f7-9be5-4e4b-93eb-dcc404ac6a68"
   },
   "outputs": [
    {
     "name": "stderr",
     "output_type": "stream",
     "text": [
      "                                                                                \r"
     ]
    },
    {
     "name": "stdout",
     "output_type": "stream",
     "text": [
      "Student 1: [7191, 485, 1108, 9101, 188, 3242, 0, 0, 0, 5724, 176, 2763, 7257, 53, 3757, 11440, 167, 1696]\n",
      "Student 2: [4577, 247, 1047, 9063, 223, 5151, 10047, 90, 4873, 4611, 183, 2232, 5559, 135, 3142, 6392, 323, 1140]\n",
      "Student 3: [0, 0, 0, 8887, 293, 4330, 9820, 155, 4863, 5859, 89, 1945, 6093, 202, 4693, 0, 0, 0]\n",
      "Student 4: [5441, 689, 1363, 9190, 735, 5341, 10709, 306, 6391, 3365, 277, 3384, 5990, 550, 3537, 11329, 630, 1881]\n",
      "Student 5: [5569, 909, 1207, 8552, 183, 5450, 8995, 178, 7433, 3662, 185, 2369, 5457, 102, 2701, 10169, 355, 1552]\n",
      "Step 1: 0.6919522239986691 Step 2: 17.44096922800236\n"
     ]
    }
   ],
   "source": [
    "from datetime import datetime\n",
    "\n",
    "\n",
    "NUM_SESSIONS = 6\n",
    "\n",
    "with open('EPM_Dataset_2/features.txt') as feature_file:\n",
    "    OG_FEATURES = [line.split()[1] for line in feature_file]\n",
    "\n",
    "\n",
    "USED_FEATURES = [\"session\", \"student_Id\", \"start_time\", \"end_time\", \"activity\", \"keystroke\"]\n",
    "NEW_FEATURES = [\"total time in session\", \"time spent in other\", \"total keystrokes in session\"]\n",
    "\n",
    "\"\"\"\n",
    "Read all observations from the give sessions(s) and student(s) and key-value pairs where\n",
    "Key = (session number, student number)\n",
    "Value = (total time spent in lab, total time spent in non-work activity, total number of work-related keystrokes)\n",
    "\"\"\"\n",
    "def get_observations(session_numbers, student_numbers, debug=False):\n",
    "    if hasattr(session_numbers, '__iter__'): # also support a single session\n",
    "        session_numbers = list(session_numbers)\n",
    "    else:\n",
    "        session_numbers = [session_numbers]\n",
    "    if hasattr(student_numbers, '__iter__'): # or a single student\n",
    "        student_numbers = list(student_numbers)\n",
    "    else:\n",
    "        student_numbers = [student_numbers]\n",
    "    paths = [] # make a list of paths for existing students\n",
    "\n",
    "    for session_number in session_numbers:\n",
    "        for student_number in student_numbers:\n",
    "            path = f'EPM_Dataset_2/Data/Processes/Session {session_number}/{student_number}.txt'\n",
    "\n",
    "            if os.path.isfile(path):\n",
    "                paths.append(path)\n",
    "            else:\n",
    "                path = f'EPM_Dataset_2/Data/Processes/Session {session_number}/{student_number} 2.txt'\n",
    "                if os.path.isfile(path):\n",
    "                    paths.append(path)\n",
    "                elif debug: print(f'Session {session_number} student {student_number} not found')\n",
    "\n",
    "    if not paths: return sc.emptyRDD() # in case there's no valid entries\n",
    "    rddRaw = sc.textFile(','.join(paths)) # read all the existing entries together into one RDD\n",
    "    \"\"\"\n",
    "    Remove all but 3 observations in the line\n",
    "    Input is a string, output is a list\n",
    "     \"\"\"\n",
    "    def delete_unused(obs):\n",
    "        obs = obs.split(\",\")\n",
    "        output = []\n",
    "\n",
    "        for key, value in zip(OG_FEATURES, obs):\n",
    "            if key in USED_FEATURES:\n",
    "                output.append(value.strip())\n",
    "\n",
    "        return output\n",
    "\n",
    "    rddTrimmed = rddRaw.map(delete_unused)\n",
    "\n",
    "\n",
    "    \"\"\"\n",
    "    Convert the start and end times into datetime objects, and make the key the session, student, and a Boolean flag representing whether they were working producitvely or not\n",
    "    \"\"\"\n",
    "    def datetimeify(obs):\n",
    "        session, student_id, activity, start, end, keystrokes = obs\n",
    "        strp = lambda s : datetime.strptime(s, '%d.%m.%Y %H:%M:%S')\n",
    "        start = int(strp(start).timestamp())\n",
    "        end = int(strp(end).timestamp())\n",
    "        total = end - start\n",
    "        return (\n",
    "                    (int(session), int(student_id), activity != \"Other\" and activity != \"Blank\"), # key\n",
    "                    (start, end, total, int(keystrokes)) # value\n",
    "                )\n",
    "\n",
    "    rddFormatted = rddTrimmed.map(datetimeify)\n",
    "\n",
    "    \"\"\"\n",
    "    Associative and commutative function to get the earliest start time, latest end time, total time in the activity, and total keystrokes\n",
    "    \"\"\"\n",
    "    def aggregateData(value1, value2):\n",
    "        return (min(value1[0], value2[0]), max(value1[1], value2[1]), value1[2] + value2[2], value1[3] + value2[3])\n",
    "\n",
    "    rddAggregated = rddFormatted.reduceByKey(aggregateData)\n",
    "\n",
    "    \"\"\"\n",
    "    Reduce the key to just the student in order to aggregate their data\n",
    "    Set up three features per session, the total time spent working in the lab, total time spent on other, and total number of keystrokes\n",
    "    \"\"\"\n",
    "    def extractFinalFeatures(obs):\n",
    "        key, value = obs\n",
    "        session, student, working = key\n",
    "        session_start = (session - session_numbers[0])*3 # index where this session data begins (assuming sessions are sequential)\n",
    "        start, end, time, keystrokes = value\n",
    "        features = [0]*(len(session_numbers)*3)\n",
    "        if working:\n",
    "            features[session_start] = end - start # time spent working in lab\n",
    "            features[session_start + 2] = keystrokes # keystrokes spent working\n",
    "        else:\n",
    "            features[session_start + 1] = time # time spent in other activities\n",
    "        return (student, features) # make session and activity a value\n",
    "\n",
    "    rddFlattened = rddAggregated.map(extractFinalFeatures).reduceByKey(lambda a, b: map(int.__add__, a, b)).mapValues(lambda mapObject: list(mapObject))\n",
    "\n",
    "    return rddFlattened\n",
    "\n",
    "from time import perf_counter\n",
    "start = perf_counter()\n",
    "observations = get_observations(range(1,7), range(1,116))\n",
    "observations.cache()\n",
    "mid = perf_counter()\n",
    "for observation in observations.take(5):\n",
    "    print(f\"Student {observation[0]}: {observation[1]}\")\n",
    "end = perf_counter()\n",
    "print(f\"Step 1: {mid - start} Step 2: {end - mid}\")\n"
   ]
  },
  {
   "cell_type": "code",
   "execution_count": 12,
   "metadata": {
    "collapsed": false
   },
   "outputs": [],
   "source": [
    "\"\"\"\n",
    "Merge the two final grades, and if students took it twice just record their first grade\n",
    "\"\"\"\n",
    "with open(\"EPM_Dataset_2/Data/final_grades_first.csv\", 'r') as first, open(\"EPM_Dataset_2/Data/final_grades_second.csv\", 'r') as second, open(\"EPM_Dataset_2/Data/final_grades_merged.csv\", 'w') as merged:\n",
    "  first.readline(); first.readline() # header lines\n",
    "  second.readline(); second.readline()\n",
    "  line1 = first.readline().split(',')\n",
    "  rows = len(line1) # needed to extract student id and final grade (last data point)\n",
    "  id1 = int(line1[0]) # extract ID number from line\n",
    "  line2 = second.readline().split(',')\n",
    "  id2 = int(line2[0])\n",
    "  while id1 < 1000 or id2 < 1000: # 1000 = finished reading\n",
    "    if id2 <= id1:\n",
    "      if id2 < id1: merged.write(','.join(line2[::rows-1])) # if a student wrote both exams, don't record the second one\n",
    "      line2 = second.readline().split(',') # move on to next student\n",
    "      id2 = int(line2[0]) if line2[0] else 1000\n",
    "    else:\n",
    "      merged.write(','.join(line1[::rows-1]))\n",
    "      line1 = first.readline().split(',')\n",
    "      id1 = int(line1[0]) if line1[0] else 1000"
   ]
  },
  {
   "cell_type": "code",
   "execution_count": 13,
   "metadata": {
    "collapsed": false
   },
   "outputs": [
    {
     "data": {
      "text/plain": [
       "[(1, 94.5), (2, 44.0), (3, 85.0)]"
      ]
     },
     "execution_count": 13,
     "metadata": {},
     "output_type": "execute_result"
    }
   ],
   "source": [
    "import csv\n",
    "grades = []\n",
    "path = 'EPM_Dataset_2/Data/final_grades_merged.csv'\n",
    "def getKVpairs(s):\n",
    "    student, grade = s.split(',')\n",
    "    return int(student), float(grade)\n",
    "gradesRDD = sc.textFile(path).map(getKVpairs)\n",
    "gradesRDD.take(3)"
   ]
  },
  {
   "cell_type": "code",
   "execution_count": 14,
   "metadata": {
    "collapsed": false
   },
   "outputs": [
    {
     "name": "stderr",
     "output_type": "stream",
     "text": [
      "                                                                                \r"
     ]
    },
    {
     "name": "stdout",
     "output_type": "stream",
     "text": [
      "['94.5,7191,485,1108,9101,188,3242,0,0,0,5724,176,2763,7257,53,3757,11440,167,1696', '44.0,4577,247,1047,9063,223,5151,10047,90,4873,4611,183,2232,5559,135,3142,6392,323,1140', '85.0,0,0,0,8887,293,4330,9820,155,4863,5859,89,1945,6093,202,4693,0,0,0', '30.0,5441,689,1363,9190,735,5341,10709,306,6391,3365,277,3384,5990,550,3537,11329,630,1881', '38.5,5569,909,1207,8552,183,5450,8995,178,7433,3662,185,2369,5457,102,2701,10169,355,1552']\n"
     ]
    }
   ],
   "source": [
    "observations.cache()\n",
    "labelled_obs = gradesRDD.join(observations).map(lambda obs: f\"{obs[1][0]},{','.join([str(i) for i in obs[1][1]])}\")\n",
    "labelled_obs.cache()\n",
    "print(labelled_obs.take(5))"
   ]
  },
  {
   "cell_type": "markdown",
   "metadata": {
    "collapsed": false,
    "id": "itE7NPJOtXxj"
   },
   "source": [
    "# Creating Models\n",
    "\n"
   ]
  },
  {
   "cell_type": "code",
   "execution_count": 15,
   "metadata": {
    "collapsed": false
   },
   "outputs": [
    {
     "name": "stdout",
     "output_type": "stream",
     "text": [
      "['94.5,7191,485,1108,9101,188,3242,0,0,0,5724,176,2763,7257,53,3757,11440,167,1696']\n"
     ]
    }
   ],
   "source": [
    "print(labelled_obs.take(1))"
   ]
  },
  {
   "cell_type": "code",
   "execution_count": 16,
   "metadata": {
    "collapsed": false
   },
   "outputs": [],
   "source": [
    "from pyspark.mllib.regression import LabeledPoint\n",
    "import numpy as np"
   ]
  },
  {
   "cell_type": "code",
   "execution_count": 17,
   "metadata": {
    "collapsed": false,
    "scrolled": true
   },
   "outputs": [
    {
     "name": "stdout",
     "output_type": "stream",
     "text": [
      "[LabeledPoint(94.5, [7191.0,485.0,1108.0,9101.0,188.0,3242.0,0.0,0.0,0.0,5724.0,176.0,2763.0,7257.0,53.0,3757.0,11440.0,167.0,1696.0])]\n",
      "[7191.0,485.0,1108.0,9101.0,188.0,3242.0,0.0,0.0,0.0,5724.0,176.0,2763.0,7257.0,53.0,3757.0,11440.0,167.0,1696.0] 94.5\n",
      "18\n"
     ]
    }
   ],
   "source": [
    "def parseData(line):\n",
    "    label_features = line.split(\",\")\n",
    "    ret_val = LabeledPoint(label_features[0],label_features[1:])\n",
    "    return ret_val\n",
    "\n",
    "parsedSamplePoints = labelled_obs.map(parseData)\n",
    "parsedSamplePoints.cache()\n",
    "firstPoint = parsedSamplePoints.take(1)\n",
    "firstPointFeatures = firstPoint[0].features\n",
    "firstPointLabel = firstPoint[0].label\n",
    "print(firstPoint)\n",
    "print(firstPointFeatures, firstPointLabel)\n",
    "print(len(firstPointFeatures))"
   ]
  },
  {
   "cell_type": "code",
   "execution_count": 18,
   "metadata": {
    "collapsed": false,
    "scrolled": true
   },
   "outputs": [],
   "source": [
    "def prepareNormalization(nonNormalizedRDD, debug=False):\n",
    "    if debug: print(\"starting\")\n",
    "    nonNormalizedRDD.cache()\n",
    "    numObservations = nonNormalizedRDD.count()\n",
    "    if debug: print(nonNormalizedRDD.take(2))\n",
    "    numFeatures = len(nonNormalizedRDD.take(1)[0].features)\n",
    "    if debug: print(f\"{numObservations=} {numFeatures=}\")\n",
    "    combOp = (lambda a, b: map(float.__add__, a, b))\n",
    "    seqOp = (lambda a, b: combOp(a, b.features))\n",
    "    if debug: print(\"Starting aggregation\")\n",
    "    meanList = list(map(lambda x: x / numObservations, nonNormalizedRDD.aggregate(tuple([0.0]*numFeatures), seqOp, combOp)))\n",
    "    if debug: print(f\"{meanList=}\")\n",
    "    global broadcastMean\n",
    "    broadcastMean = sc.broadcast(meanList)\n",
    "    seqOp = (lambda a, b: combOp(a, [(feature-broadcastMean.value[index])**2 for index, feature in enumerate(b.features)]))\n",
    "    stdevList = list(map(lambda x: (x / numObservations)**0.5, nonNormalizedRDD.aggregate(tuple([0.0]*numFeatures), seqOp, combOp)))\n",
    "    if debug: print(f\"{stdevList=}\")\n",
    "    global broadcastStdev\n",
    "    broadcastStdev = sc.broadcast(stdevList)\n",
    "\n",
    "    global meanGrade\n",
    "    meanGrade = sc.broadcast(nonNormalizedRDD.map(lambda lp: lp.label).mean())\n",
    "    global stdevGrade\n",
    "    stdevGrade = sc.broadcast(nonNormalizedRDD.map(lambda lp: lp.label).stdev())\n",
    "\n",
    "def normalizeFeatures(lp):\n",
    "    normalizedFeatures = list()\n",
    "    for i in range (0,len(lp.features)):\n",
    "        feature = (lp.features[i]-broadcastMean.value[i])/broadcastStdev.value[i]\n",
    "        normalizedFeatures.insert(i,feature)\n",
    "    return LabeledPoint((lp.label - meanGrade.value)/stdevGrade.value, normalizedFeatures)"
   ]
  },
  {
   "cell_type": "code",
   "execution_count": 19,
   "metadata": {
    "collapsed": false
   },
   "outputs": [
    {
     "name": "stderr",
     "output_type": "stream",
     "text": [
      "                                                                                \r"
     ]
    },
    {
     "name": "stdout",
     "output_type": "stream",
     "text": [
      "[LabeledPoint(-0.13091802593781937, [0.2828343870376832,-0.25250172480939054,0.40884265440039474,0.5167458551692643,-0.3333959693469496,0.8597497396212153,0.5036005339926257,-0.4988167049543678,0.5720600637587105,0.0005206262084083754,-0.2694382938600449,0.269375349927984,0.05723279996709633,-0.43279194511518276,0.3302292579240702,-0.6396690058530655,-0.023547892105960252,-0.13554121693463725])]\n"
     ]
    },
    {
     "name": "stderr",
     "output_type": "stream",
     "text": [
      "                                                                                \r"
     ]
    },
    {
     "name": "stdout",
     "output_type": "stream",
     "text": [
      "56 16 21 93\n"
     ]
    },
    {
     "name": "stderr",
     "output_type": "stream",
     "text": [
      "[Stage 90:===================================================>  (494 + 4) / 522]\r"
     ]
    },
    {
     "name": "stdout",
     "output_type": "stream",
     "text": [
      "93\n"
     ]
    },
    {
     "name": "stderr",
     "output_type": "stream",
     "text": [
      "                                                                                \r"
     ]
    }
   ],
   "source": [
    "# Training, test, and validation setup\n",
    "\n",
    "weights = [0.6, 0.2, 0.2] # train/test/cv\n",
    "seed = 53\n",
    "unnormalizedTrainData, unnormalizedTestData, unnormalizedCVData = parsedSamplePoints.randomSplit(weights,seed)\n",
    "\n",
    "# normalize based on training data *only* to avoid information leakage\n",
    "prepareNormalization(unnormalizedTrainData)\n",
    "\n",
    "parsedTrainData = unnormalizedTrainData.map(normalizeFeatures).cache()\n",
    "print(parsedTrainData.take(1))\n",
    "parsedTestData = unnormalizedTestData.map(normalizeFeatures).cache()\n",
    "parsedCVData = unnormalizedCVData.map(normalizeFeatures).cache()\n",
    "\n",
    "nTrain = parsedTrainData.count()\n",
    "nTest = parsedTestData.count()\n",
    "nCV = parsedCVData.count()\n",
    "\n",
    "print (nTrain, nTest, nCV, nTrain+nTest+nCV)\n",
    "print (parsedSamplePoints.count())"
   ]
  },
  {
   "cell_type": "code",
   "execution_count": 20,
   "metadata": {
    "collapsed": false
   },
   "outputs": [
    {
     "name": "stdout",
     "output_type": "stream",
     "text": [
      "47.53571428571429\n"
     ]
    }
   ],
   "source": [
    "# Creating baseline model for just guessing the average (equals zero after normalization)\n",
    "# Hopefully our model is better than just guessing the average grade\n",
    "\n",
    "averageGrade = 0\n",
    "print(averageGrade*stdevGrade.value + meanGrade.value)"
   ]
  },
  {
   "cell_type": "code",
   "execution_count": 21,
   "metadata": {
    "collapsed": false
   },
   "outputs": [],
   "source": [
    "# Root mean square error\n",
    "# Needs data to come in the form label, prediction\n",
    "\n",
    "import math\n",
    "\n",
    "def squaredError(label, prediction):\n",
    "    error = (label-prediction)*(label-prediction)\n",
    "    return error\n",
    "\n",
    "\"\"\"Calculates the root mean squared error for an `RDD` of (label, prediction) tuples.\n",
    "\n",
    "Args:\n",
    "    LabelsAndPredictions (RDD of (float, float)): An `RDD` consisting of (label, prediction) tuples.\n",
    "\n",
    "Returns:\n",
    "    float: The square root of the mean of the squared errors.\n",
    "\"\"\"\n",
    "def RootMeanSquareError(LabelsAndPredictions):\n",
    "    sqrSum = LabelsAndPredictions.map(lambda s: (squaredError(s[0],s[1]),1.0)).reduce(lambda a, b: (a[0]+b[0], a[1]+b[1]))\n",
    "    return math.sqrt(sqrSum[0]/sqrSum[1])\n",
    "\n"
   ]
  },
  {
   "cell_type": "code",
   "execution_count": 22,
   "metadata": {
    "collapsed": false
   },
   "outputs": [
    {
     "name": "stderr",
     "output_type": "stream",
     "text": [
      "[Stage 98:===================================================>  (495 + 4) / 522]\r"
     ]
    },
    {
     "name": "stdout",
     "output_type": "stream",
     "text": [
      "Baseline Train RMSE = 1.000\n",
      "Baseline Validation RMSE = 0.953\n"
     ]
    },
    {
     "name": "stderr",
     "output_type": "stream",
     "text": [
      "                                                                                \r"
     ]
    }
   ],
   "source": [
    "# Using our training and validation data against an average guess for grade\n",
    "\n",
    "LabelandPredTrain = parsedTrainData.map(lambda x: (x.label, averageGrade))\n",
    "rmseTrainBase = RootMeanSquareError(LabelandPredTrain)\n",
    "\n",
    "LabelandPredCV = parsedCVData.map(lambda x: (x.label, averageGrade))\n",
    "rmseCVBase = RootMeanSquareError(LabelandPredCV)\n",
    "\n",
    "\n",
    "print('Baseline Train RMSE = {0:.3f}'.format(rmseTrainBase))\n",
    "print('Baseline Validation RMSE = {0:.3f}'.format(rmseCVBase))"
   ]
  },
  {
   "cell_type": "code",
   "execution_count": 23,
   "metadata": {
    "collapsed": false
   },
   "outputs": [],
   "source": [
    "# Linear Regression\n",
    "\n",
    "from pyspark.mllib.linalg import DenseVector\n",
    "from pyspark.mllib.regression import LinearRegressionWithSGD\n",
    "# Values to use when training the linear regression model\n",
    "numIters = 500  # iterations\n",
    "alpha = 1.0  # step changed from 1.0 to 0.5 to 0.1\n",
    "miniBatchFrac = 1.0  # miniBatchFraction\n",
    "reg = 1.3  # regParam, optimized based on minimizing CV RMSE\n",
    "regType = 'l2'  # regType\n",
    "useIntercept = False  # no intercept because we are normalizing based on training data"
   ]
  },
  {
   "cell_type": "code",
   "execution_count": 24,
   "metadata": {},
   "outputs": [
    {
     "name": "stderr",
     "output_type": "stream",
     "text": [
      "/home/drbenciv/.local/lib/python3.8/site-packages/pyspark/mllib/regression.py:367: FutureWarning: Deprecated in 2.0.0. Use ml.regression.LinearRegression.\n",
      "  warnings.warn(\"Deprecated in 2.0.0. Use ml.regression.LinearRegression.\", FutureWarning)\n"
     ]
    },
    {
     "name": "stdout",
     "output_type": "stream",
     "text": [
      "[0.0] 0.5\n"
     ]
    }
   ],
   "source": [
    "# This test shows that regularization affects the intercept (which should be\n",
    "# one), contrary to standard practice\n",
    "testing = sc.parallelize([LabeledPoint(1,[-1]), LabeledPoint(1,[1])])\n",
    "testModel = LinearRegressionWithSGD.train(testing,numIters,alpha,miniBatchFrac,initialWeights=None,regParam=1,regType=regType,intercept=True)\n",
    "print(testModel.weights, testModel.intercept)"
   ]
  },
  {
   "cell_type": "code",
   "execution_count": 25,
   "metadata": {
    "collapsed": false
   },
   "outputs": [
    {
     "name": "stderr",
     "output_type": "stream",
     "text": [
      "                                                                                \r"
     ]
    },
    {
     "name": "stdout",
     "output_type": "stream",
     "text": [
      "[-0.06966625667204569,0.0015639378974160309,-0.00893714406205204,0.005482801999114707,0.05862073299035709,0.037637792938630996,0.04795244146264191,-0.017786358772817302,0.03535746920606743,-0.03858402135063102,-0.0981623591101505,0.015975170506702236,-0.04890082892493478,0.011064940367745676,0.10836028953999428,0.06638433818513119,-0.02323916654593319,0.08454388015481669] 0.0\n"
     ]
    }
   ],
   "source": [
    "model1 = LinearRegressionWithSGD.train(parsedTrainData,numIters,alpha,miniBatchFrac,initialWeights=None,regParam=reg,regType=regType,intercept=useIntercept)\n",
    "\n",
    "weightsLR1 = model1.weights\n",
    "interceptLR1 = model1.intercept # equals zero since training data's average is zero\n",
    "print(weightsLR1, interceptLR1)"
   ]
  },
  {
   "cell_type": "code",
   "execution_count": 26,
   "metadata": {
    "collapsed": false
   },
   "outputs": [
    {
     "name": "stdout",
     "output_type": "stream",
     "text": [
      "48.9048481124298 -0.13091802593781937\n"
     ]
    }
   ],
   "source": [
    "# Prediction\n",
    "\n",
    "samplePoint = parsedTrainData.take(1)[0]\n",
    "samplePrediction = model1.predict(samplePoint.features)\n",
    "sampleGrade = samplePoint.label\n",
    "print(samplePrediction*stdevGrade.value + meanGrade.value, sampleGrade)"
   ]
  },
  {
   "cell_type": "code",
   "execution_count": 27,
   "metadata": {
    "collapsed": false,
    "scrolled": true
   },
   "outputs": [
    {
     "name": "stderr",
     "output_type": "stream",
     "text": [
      "                                                                                \r"
     ]
    },
    {
     "name": "stdout",
     "output_type": "stream",
     "text": [
      "rmseTrainBase=0.9999999999999999\n",
      "rmseTrainLR1=0.8866452977020763\n"
     ]
    },
    {
     "name": "stderr",
     "output_type": "stream",
     "text": [
      "[Stage 259:====================================================>(514 + 4) / 522]\r"
     ]
    },
    {
     "name": "stdout",
     "output_type": "stream",
     "text": [
      "rmseCVBase=0.9527220168378452\n",
      "rmseCVLR1=0.8970156946610404\n"
     ]
    },
    {
     "name": "stderr",
     "output_type": "stream",
     "text": [
      "                                                                                \r"
     ]
    }
   ],
   "source": [
    "# Calculating RMSE\n",
    "LabelandPredictionsTrain = parsedTrainData.map(lambda lp: (lp.label, model1.predict(lp.features)))\n",
    "rmseTrainLR1 = RootMeanSquareError(LabelandPredictionsTrain)\n",
    "print(f\"{rmseTrainBase=}\")\n",
    "print(f\"{rmseTrainLR1=}\")\n",
    "\n",
    "LabelandPredictionsCV = parsedCVData.map(lambda lp: (lp.label, model1.predict(lp.features)))\n",
    "rmseCVLR1 = RootMeanSquareError(LabelandPredictionsCV)\n",
    "print(f\"{rmseCVBase=}\")\n",
    "print(f\"{rmseCVLR1=}\")\n"
   ]
  },
  {
   "cell_type": "code",
   "execution_count": 28,
   "metadata": {
    "collapsed": false
   },
   "outputs": [
    {
     "name": "stderr",
     "output_type": "stream",
     "text": [
      "                                                                                \r"
     ]
    },
    {
     "name": "stdout",
     "output_type": "stream",
     "text": [
      "[LabeledPoint(-0.13091802593781912, [0.28283438703768304,-0.25250172480939054,0.4088426544003948,0.5167458551692644,-0.3333959693469496,0.859749739621215,0.5036005339926258,-0.498816704954368,0.5720600637587104,0.0005206262084084389,-0.26943829386004486,0.26937534992798406,0.057232799967096466,-0.4327919451151827,0.33022925792407015,-0.6396690058530653,-0.02354789210596022,-0.13554121693463728,-0.5079094391136851,-0.3500544717889186,-0.45995732544477397,-0.5410906642368777,-0.28065240693110344,-0.23425155238397607,-0.40318110204930746,-0.16734948082191684,-0.5375303868215372,-0.4933354769930075,-0.2566016371259124,-0.46959652613855096,-0.5237545288444206,-0.2500150530794837,-0.48388209299597384,-0.2969073026911929,-0.2670847343464464,-0.1400397254372772]), LabeledPoint(-0.33456828850775994, [0.5965789879426007,1.226989968273228,0.6350377876777975,0.3851613867544174,-0.4265372728312558,1.000048643596749,0.20532060699819993,-0.31201157371224275,1.835724076154105,-0.5215201137851482,-0.2607791578737249,0.37647773822853825,0.008131905792861719,-0.5946619136585662,0.024900102038902177,0.45674647847427297,0.08142181598827035,-0.03131140801166453,-0.35558641233173865,0.18900444904649516,-0.3295548081766212,-0.6286995467691247,-0.2583033371340125,8.737567277878418e-05,-0.5174053603252269,-0.20109351060634692,1.8935551202798562,-0.3591565982894949,-0.2578719757471755,-0.43457190949834557,-0.5254410252117028,-0.19885049272332234,-0.5427721179466208,-0.39769451330161004,-0.2654612920052442,-0.1425207384491015])]\n"
     ]
    }
   ],
   "source": [
    "# Attempting Second Order Model\n",
    "\n",
    "def transformOrderTwo(lp):\n",
    "    \"\"\"Transforms the features in the LabeledPoint object lp into higher order features.\n",
    "\n",
    "    Args:\n",
    "        lp - LabeledPoint object \n",
    "\n",
    "    Returns:\n",
    "        LabeledPoint: The object contains the label and the higher order features\n",
    "    \"\"\"\n",
    "    Sq1 = lp.features[0]*lp.features[0]\n",
    "    Sq2 = lp.features[1]*lp.features[1]\n",
    "    Sq3 = lp.features[2]*lp.features[2]\n",
    "    Sq4 = lp.features[3]*lp.features[3]\n",
    "    Sq5 = lp.features[4]*lp.features[4]\n",
    "    Sq6 = lp.features[5]*lp.features[5]\n",
    "    Sq7 = lp.features[6]*lp.features[6]\n",
    "    Sq8 = lp.features[7]*lp.features[7]\n",
    "    Sq9 = lp.features[8]*lp.features[8]\n",
    "    Sq10 = lp.features[9]*lp.features[9]\n",
    "    Sq11 = lp.features[10]*lp.features[10]\n",
    "    Sq12 = lp.features[11]*lp.features[11]\n",
    "    Sq13 = lp.features[12]*lp.features[12]\n",
    "    Sq14 = lp.features[13]*lp.features[13]\n",
    "    Sq15 = lp.features[14]*lp.features[14]\n",
    "    Sq16 = lp.features[15]*lp.features[15]\n",
    "    Sq17 = lp.features[16]*lp.features[16]\n",
    "    Sq18 = lp.features[17]*lp.features[17]\n",
    "    return LabeledPoint(lp.label,[lp.features[0],lp.features[1],lp.features[2],lp.features[3],lp.features[4],lp.features[5],lp.features[6],lp.features[7],lp.features[8],lp.features[9],lp.features[10],lp.features[11],lp.features[12],lp.features[13],lp.features[14],lp.features[15],lp.features[16],lp.features[17],Sq1,Sq2,Sq3,Sq4,Sq5,Sq6,Sq7,Sq8,Sq9,Sq10,Sq11,Sq12,Sq13,Sq14,Sq15,Sq16,Sq17,Sq18])\n",
    "\n",
    "unnormalizedTrainDataOrderTwo = parsedTrainData.map(transformOrderTwo)\n",
    "prepareNormalization(unnormalizedTrainDataOrderTwo) # normalizes new features (old features are already normalized)\n",
    "parsedTrainDataOrderTwo = unnormalizedTrainDataOrderTwo.map(normalizeFeatures)\n",
    "print(parsedTrainDataOrderTwo.take(2))\n",
    "parsedTestDataOrderTwo = parsedTestData.map(transformOrderTwo).map(normalizeFeatures)\n",
    "parsedCVDataOrderTwo = parsedCVData.map(transformOrderTwo).map(normalizeFeatures)"
   ]
  },
  {
   "cell_type": "code",
   "execution_count": 29,
   "metadata": {
    "collapsed": false
   },
   "outputs": [
    {
     "name": "stderr",
     "output_type": "stream",
     "text": [
      "[Stage 311:====================================================>(514 + 4) / 522]\r"
     ]
    },
    {
     "name": "stdout",
     "output_type": "stream",
     "text": [
      "56 21 16 93\n"
     ]
    },
    {
     "name": "stderr",
     "output_type": "stream",
     "text": [
      "                                                                                \r"
     ]
    }
   ],
   "source": [
    "nTrain = parsedTrainDataOrderTwo.cache().count()\n",
    "nCV = parsedCVDataOrderTwo.cache().count()\n",
    "nTest = parsedTestDataOrderTwo.cache().count()\n",
    "\n",
    "print(nTrain, nCV, nTest, nTrain + nTest + nCV)"
   ]
  },
  {
   "cell_type": "code",
   "execution_count": 30,
   "metadata": {
    "collapsed": false
   },
   "outputs": [
    {
     "name": "stdout",
     "output_type": "stream",
     "text": [
      "[-0.005258715753212346,-0.0004903078214971582,-0.00031878856268153296,0.005968745030139435,0.00771077865973009,0.008897907366251933,0.006984945876229189,-0.0029155316426621837,0.00752797686247649,-0.006248165364293503,-0.012865334629237848,0.0034752678664647504,-0.0009424438860876679,0.0023283803998504337,0.012731949808163813,0.008237683120346657,-0.0028074442888936374,0.011069600485015759,-0.007864026102891011,0.004237928655625283,0.0010595384906743532,-0.0037211303664560257,0.006815770433080971,2.2054294352155588e-05,-0.009458038352191838,-0.0058773596171234534,-0.010725693930596258,0.0010128659469974103,-0.007208689753365706,-0.00350951261649984,-0.006055931146651765,0.002483621444327919,0.007500343403884185,-0.005329640986541179,-0.004751424740691597,0.00833682433682399]\n"
     ]
    }
   ],
   "source": [
    "reg = 20 # optimizing based on minimizing CV RMSE\n",
    "secondModel = LinearRegressionWithSGD.train(parsedTrainDataOrderTwo,numIters,min(alpha,alpha/reg),miniBatchFrac,initialWeights=None,regParam=reg,regType=regType,intercept=False)\n",
    "\n",
    "weightsLR2 = secondModel.weights\n",
    "print(weightsLR2)"
   ]
  },
  {
   "cell_type": "code",
   "execution_count": 31,
   "metadata": {
    "collapsed": false
   },
   "outputs": [
    {
     "name": "stderr",
     "output_type": "stream",
     "text": [
      "[Stage 358:==================================================>  (499 + 4) / 522]\r"
     ]
    },
    {
     "name": "stdout",
     "output_type": "stream",
     "text": [
      "0.9527220168378452\n",
      "0.8970156946610404\n",
      "0.9467089218366738\n"
     ]
    },
    {
     "name": "stderr",
     "output_type": "stream",
     "text": [
      "                                                                                \r"
     ]
    }
   ],
   "source": [
    "labelsAndPredsOrderTwo = parsedCVDataOrderTwo.map(lambda lp: (lp.label,secondModel.predict(lp.features)))\n",
    "rmseCVLR2 = RootMeanSquareError(labelsAndPredsOrderTwo)\n",
    "\n",
    "print(rmseCVBase)\n",
    "print(rmseCVLR1)\n",
    "print(rmseCVLR2)"
   ]
  },
  {
   "cell_type": "code",
   "execution_count": 32,
   "metadata": {
    "collapsed": false
   },
   "outputs": [
    {
     "name": "stderr",
     "output_type": "stream",
     "text": [
      "[Stage 416:===================================================> (508 + 4) / 522]\r"
     ]
    },
    {
     "name": "stdout",
     "output_type": "stream",
     "text": [
      "0.9527220168378452\n",
      "0.8970156946610404\n",
      "0.9467089218366738\n",
      "0.8099728807415508\n"
     ]
    },
    {
     "name": "stderr",
     "output_type": "stream",
     "text": [
      "                                                                                \r"
     ]
    }
   ],
   "source": [
    "# Random Forest\n",
    "\n",
    "from pyspark.mllib.tree import RandomForest\n",
    "from pyspark.ml.evaluation import RegressionEvaluator\n",
    "# parsedTrainData\n",
    "dtModel = RandomForest.trainRegressor(parsedTrainData, categoricalFeaturesInfo={},\n",
    "                                      numTrees=8, featureSubsetStrategy=\"auto\",\n",
    "                                      impurity='variance', maxDepth=5, maxBins=32)\n",
    "predictions = dtModel.predict(parsedCVData.map(lambda x: x.features)).collect()\n",
    "labels = parsedCVData.map(lambda x: x.label).collect()\n",
    "rmseCVDT = np.sqrt(np.mean((np.array(predictions)-np.array(labels))**2))\n",
    "\n",
    "\n",
    "print(rmseCVBase)\n",
    "print(rmseCVLR1)\n",
    "print(rmseCVLR2)\n",
    "print(rmseCVDT)"
   ]
  },
  {
   "attachments": {},
   "cell_type": "markdown",
   "metadata": {},
   "source": [
    "## Check performance of test data (withheld until this point from training) and visualize predictions"
   ]
  },
  {
   "cell_type": "code",
   "execution_count": 40,
   "metadata": {},
   "outputs": [
    {
     "name": "stderr",
     "output_type": "stream",
     "text": [
      "                                                                                \r"
     ]
    },
    {
     "name": "stdout",
     "output_type": "stream",
     "text": [
      "rmseTestBase=1.2161457932538393\n"
     ]
    },
    {
     "name": "stderr",
     "output_type": "stream",
     "text": [
      "                                                                                \r"
     ]
    },
    {
     "name": "stdout",
     "output_type": "stream",
     "text": [
      "rmseTestLR1=1.2770069591621636\n"
     ]
    },
    {
     "name": "stderr",
     "output_type": "stream",
     "text": [
      "                                                                                \r"
     ]
    },
    {
     "name": "stdout",
     "output_type": "stream",
     "text": [
      "rmseTestLR2=1.2163645703223056\n"
     ]
    },
    {
     "name": "stderr",
     "output_type": "stream",
     "text": [
      "[Stage 492:====================================================>(518 + 4) / 522]\r"
     ]
    },
    {
     "name": "stdout",
     "output_type": "stream",
     "text": [
      "rmseTestDT=1.222373616997945\n"
     ]
    },
    {
     "name": "stderr",
     "output_type": "stream",
     "text": [
      "                                                                                \r"
     ]
    }
   ],
   "source": [
    "labelsAndPredsTestBase = parsedTestData.map(lambda x: (x.label, averageGrade))\n",
    "rmseTestBase = RootMeanSquareError(labelsAndPredsTestBase)\n",
    "print(f\"{rmseTestBase=}\")\n",
    "\n",
    "labelsAndPredsTestR1 = parsedTestData.map(lambda lp: (lp.label,model1.predict(lp.features)))\n",
    "rmseTestLR1 = RootMeanSquareError(labelsAndPredsTestR1)\n",
    "print(f\"{rmseTestLR1=}\")\n",
    "\n",
    "labelsAndPredsTestR2 = parsedTestDataOrderTwo.map(lambda lp: (lp.label,secondModel.predict(lp.features)))\n",
    "rmseTestLR2 = RootMeanSquareError(labelsAndPredsTestR2)\n",
    "print(f\"{rmseTestLR2=}\")\n",
    "\n",
    "DTTestpredictions = dtModel.predict(parsedTestData.map(lambda x: x.features)).collect()\n",
    "DTTestlabels = parsedTestData.map(lambda x: x.label).collect()\n",
    "rmseTestDT = np.sqrt(np.mean((np.array(DTTestpredictions)-np.array(DTTestlabels))**2))\n",
    "print(f\"{rmseTestDT=}\")"
   ]
  },
  {
   "cell_type": "code",
   "execution_count": 33,
   "metadata": {
    "collapsed": false
   },
   "outputs": [
    {
     "name": "stderr",
     "output_type": "stream",
     "text": [
      "                                                                                \r"
     ]
    },
    {
     "data": {
      "image/png": "[encoded data removed]",
      "text/plain": [
       "<Figure size 1050x1050 with 1 Axes>"
      ]
     },
     "metadata": {},
     "output_type": "display_data"
    }
   ],
   "source": [
    "import matplotlib.pyplot as plt\n",
    "import matplotlib.cm as cm\n",
    "from matplotlib.colors import ListedColormap, Normalize\n",
    "from matplotlib.cm import get_cmap\n",
    "\n",
    "cmap = get_cmap('YlOrRd')\n",
    "\n",
    "def preparePlot(xticks, yticks, figsize=(10.5, 10.5), hideLabels=False, gridColor='#999999',\n",
    "                gridWidth=1.0):\n",
    "    \"\"\"Template for generating the plot layout.\"\"\"\n",
    "    plt.close()\n",
    "    fig, ax = plt.subplots(figsize=figsize, facecolor='white', edgecolor='white')\n",
    "    ax.axes.tick_params(labelcolor='#999999', labelsize='10')\n",
    "    for axis, ticks in [(ax.get_xaxis(), xticks), (ax.get_yaxis(), yticks)]:\n",
    "        axis.set_ticks_position('none')\n",
    "        axis.set_ticks(ticks)\n",
    "        axis.label.set_color('#999999')\n",
    "        if hideLabels: axis.set_ticklabels([])\n",
    "    plt.grid(color=gridColor, linewidth=gridWidth, linestyle='-')\n",
    "    map(lambda position: ax.spines[position].set_visible(False), ['bottom', 'top', 'left', 'right'])\n",
    "    return fig, ax\n",
    "\n",
    "predictions = np.asarray(parsedCVDataOrderTwo\n",
    "                         .map(lambda lp: secondModel.predict(lp.features))\n",
    "                         .collect())\n",
    "\n",
    "actual = np.asarray(parsedCVDataOrderTwo\n",
    "                    .map(lambda lp: lp.label).collect())\n",
    "\n",
    "error = np.asarray(parsedCVDataOrderTwo\n",
    "                   .map(lambda lp: (lp.label, secondModel.predict(lp.features))).map(lambda lp: squaredError(lp[0], lp[1]))\n",
    "                   .collect())\n",
    "\n",
    "norm = Normalize()\n",
    "clrs = cmap(np.asarray(norm(error)))[:,0:3]\n",
    "\n",
    "fig, ax = preparePlot(np.arange(0, 120, 20), np.arange(0, 120, 20))\n",
    "ax.set_xlim(0, 100), ax.set_ylim(20, 100)\n",
    "plt.scatter(predictions, actual, s=14**2, c=clrs, edgecolors='#888888', alpha=0.75, linewidths=.5)\n",
    "ax.set_xlabel('Predicted'), ax.set_ylabel(r'Actual')\n",
    "pass"
   ]
  },
  {
   "cell_type": "code",
   "execution_count": 34,
   "metadata": {
    "collapsed": false
   },
   "outputs": [
    {
     "data": {
      "image/png": "[encoded data removed]",
      "text/plain": [
       "<Figure size 1050x1050 with 1 Axes>"
      ]
     },
     "metadata": {},
     "output_type": "display_data"
    }
   ],
   "source": [
    "fig, ax = preparePlot(np.arange(0, 120, 20), np.arange(0, 120, 20))\n",
    "ax.set_xlim(20, 100), ax.set_ylim(20, 100)\n",
    "plt.scatter(predictions, predictions, s=14**2, c=clrs, edgecolors='#888888', alpha=0.75, linewidths=.5)\n",
    "ax.set_xlabel('Predicted'), ax.set_ylabel(r'Actual')\n",
    "pass"
   ]
  }
 ],
 "metadata": {
  "colab": {
   "provenance": [],
   "toc_visible": true
  },
  "kernelspec": {
   "display_name": "Python 3",
   "language": "python",
   "name": "python3"
  },
  "language_info": {
   "codemirror_mode": {
    "name": "ipython",
    "version": 3
   },
   "file_extension": ".py",
   "mimetype": "text/x-python",
   "name": "python",
   "nbconvert_exporter": "python",
   "pygments_lexer": "ipython3",
   "version": "3.8.10"
  },
  "vscode": {
   "interpreter": {
    "hash": "e7370f93d1d0cde622a1f8e1c04877d8463912d04d973331ad4851f04de6915a"
   }
  }
 },
 "nbformat": 4,
 "nbformat_minor": 4
}
